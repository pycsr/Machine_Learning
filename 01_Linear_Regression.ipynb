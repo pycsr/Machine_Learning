{
 "cells": [
  {
   "cell_type": "markdown",
   "id": "4f9c35db",
   "metadata": {},
   "source": [
    "# What is Linear Regression\n",
    "- In simple terms, linear regression is a method of `finding the best straight line fitting to the given data`, i.e. finding the best linear relationship between the independent and dependent variables.\n",
    "- In technical terms, linear regression is a machine learning algorithm that finds the best linear-fit relationship on any given data, between independent and dependent variables. It is mostly done by the Sum of Squared Residuals Method."
   ]
  },
  {
   "cell_type": "markdown",
   "id": "2dd62e2d",
   "metadata": {},
   "source": [
    "# Types of Linear Regression\n",
    "\n",
    "- `Simple Linear Regression`:\n",
    "    - If a single independent variable is used to predict the value of a numerical dependent variable, then such a \n",
    "       Linear Regression algorithm is called Simple Linear Regression.\n",
    "- `Multiple Linear regression`:\n",
    "    - If more than one independent variable is used to predict the value of a numerical dependent variable, then such a Linear Regression algorithm is called Multiple Linear Regression.\n"
   ]
  },
  {
   "cell_type": "markdown",
   "id": "2b8486c2",
   "metadata": {},
   "source": [
    "# Mathematical Intution behind Liner Regression"
   ]
  },
  {
   "cell_type": "markdown",
   "id": "d6238d42",
   "metadata": {
    "ExecuteTime": {
     "end_time": "2022-04-07T11:48:16.909393Z",
     "start_time": "2022-04-07T11:48:16.901951Z"
    }
   },
   "source": [
    "- As we know line equation is: $y = mX+c$\n",
    "    \n",
    "    where:\n",
    "    - $y$ = Dependent variable\n",
    "    - $m$ = Slope of a line\n",
    "    - $X$ = Independent vairable\n",
    "    - $c$ = Intercept \n",
    "- for liner regression: $y = \\omega_0+\\omega_1x_1+\\omega_2x_2+.....\\omega_nx_n$\n",
    "    - $\\omega_{1\\to n}$ = Slope of a line for 1 to n features\n",
    "    - $\\omega_0$ = Intercept \n"
   ]
  },
  {
   "cell_type": "markdown",
   "id": "2ad28fc8",
   "metadata": {},
   "source": [
    "# What are important libraries to load"
   ]
  },
  {
   "cell_type": "code",
   "execution_count": 255,
   "id": "c8124395",
   "metadata": {
    "ExecuteTime": {
     "end_time": "2022-04-07T15:49:22.361801Z",
     "start_time": "2022-04-07T15:49:22.357430Z"
    }
   },
   "outputs": [],
   "source": [
    "import numpy as np\n",
    "import pandas as pd\n",
    "import matplotlib.pyplot as plt\n",
    "import seaborn as sns\n",
    "\n",
    "# ML related libraries\n",
    "from sklearn.linear_model import LinearRegression\n",
    "from sklearn.datasets import load_boston\n",
    "from sklearn.model_selection import train_test_split\n",
    "\n",
    "# for Linear Model evaluation\n",
    "from sklearn.metrics import r2_score, mean_absolute_error, mean_squared_error"
   ]
  },
  {
   "cell_type": "markdown",
   "id": "a2a1260f",
   "metadata": {},
   "source": [
    "# Example for `Simple Linear Regression`"
   ]
  },
  {
   "cell_type": "markdown",
   "id": "9564486e",
   "metadata": {},
   "source": [
    "## Salary Data Set"
   ]
  },
  {
   "cell_type": "code",
   "execution_count": 256,
   "id": "40e2a4d0",
   "metadata": {
    "ExecuteTime": {
     "end_time": "2022-04-07T15:49:41.735391Z",
     "start_time": "2022-04-07T15:49:41.729150Z"
    }
   },
   "outputs": [],
   "source": [
    "df = pd.read_csv(\"Salary_Data.csv\")"
   ]
  },
  {
   "cell_type": "code",
   "execution_count": 257,
   "id": "416b034a",
   "metadata": {
    "ExecuteTime": {
     "end_time": "2022-04-07T15:49:45.826117Z",
     "start_time": "2022-04-07T15:49:45.817043Z"
    }
   },
   "outputs": [
    {
     "data": {
      "text/html": [
       "<div>\n",
       "<style scoped>\n",
       "    .dataframe tbody tr th:only-of-type {\n",
       "        vertical-align: middle;\n",
       "    }\n",
       "\n",
       "    .dataframe tbody tr th {\n",
       "        vertical-align: top;\n",
       "    }\n",
       "\n",
       "    .dataframe thead th {\n",
       "        text-align: right;\n",
       "    }\n",
       "</style>\n",
       "<table border=\"1\" class=\"dataframe\">\n",
       "  <thead>\n",
       "    <tr style=\"text-align: right;\">\n",
       "      <th></th>\n",
       "      <th>YearsExperience</th>\n",
       "      <th>Salary</th>\n",
       "    </tr>\n",
       "  </thead>\n",
       "  <tbody>\n",
       "    <tr>\n",
       "      <th>0</th>\n",
       "      <td>1.1</td>\n",
       "      <td>39343.0</td>\n",
       "    </tr>\n",
       "    <tr>\n",
       "      <th>1</th>\n",
       "      <td>1.3</td>\n",
       "      <td>46205.0</td>\n",
       "    </tr>\n",
       "    <tr>\n",
       "      <th>2</th>\n",
       "      <td>1.5</td>\n",
       "      <td>37731.0</td>\n",
       "    </tr>\n",
       "    <tr>\n",
       "      <th>3</th>\n",
       "      <td>2.0</td>\n",
       "      <td>43525.0</td>\n",
       "    </tr>\n",
       "    <tr>\n",
       "      <th>4</th>\n",
       "      <td>2.2</td>\n",
       "      <td>39891.0</td>\n",
       "    </tr>\n",
       "  </tbody>\n",
       "</table>\n",
       "</div>"
      ],
      "text/plain": [
       "   YearsExperience   Salary\n",
       "0              1.1  39343.0\n",
       "1              1.3  46205.0\n",
       "2              1.5  37731.0\n",
       "3              2.0  43525.0\n",
       "4              2.2  39891.0"
      ]
     },
     "execution_count": 257,
     "metadata": {},
     "output_type": "execute_result"
    }
   ],
   "source": [
    "df.head(5)"
   ]
  },
  {
   "cell_type": "code",
   "execution_count": 267,
   "id": "83ba3107",
   "metadata": {
    "ExecuteTime": {
     "end_time": "2022-04-07T15:52:12.204932Z",
     "start_time": "2022-04-07T15:52:12.199192Z"
    }
   },
   "outputs": [
    {
     "data": {
      "text/plain": [
       "(30, 2)"
      ]
     },
     "execution_count": 267,
     "metadata": {},
     "output_type": "execute_result"
    }
   ],
   "source": [
    "df.shape"
   ]
  },
  {
   "cell_type": "code",
   "execution_count": 258,
   "id": "c14f3821",
   "metadata": {
    "ExecuteTime": {
     "end_time": "2022-04-07T15:51:02.938068Z",
     "start_time": "2022-04-07T15:51:02.934524Z"
    }
   },
   "outputs": [],
   "source": [
    "X = df.YearsExperience\n",
    "y = df.Salary"
   ]
  },
  {
   "cell_type": "code",
   "execution_count": 259,
   "id": "75571490",
   "metadata": {
    "ExecuteTime": {
     "end_time": "2022-04-07T15:51:08.336935Z",
     "start_time": "2022-04-07T15:51:08.331360Z"
    }
   },
   "outputs": [
    {
     "data": {
      "text/plain": [
       "(30,)"
      ]
     },
     "execution_count": 259,
     "metadata": {},
     "output_type": "execute_result"
    }
   ],
   "source": [
    "X.shape"
   ]
  },
  {
   "cell_type": "code",
   "execution_count": 260,
   "id": "f79247fd",
   "metadata": {
    "ExecuteTime": {
     "end_time": "2022-04-07T15:51:18.458560Z",
     "start_time": "2022-04-07T15:51:18.453507Z"
    }
   },
   "outputs": [
    {
     "data": {
      "text/plain": [
       "(30,)"
      ]
     },
     "execution_count": 260,
     "metadata": {},
     "output_type": "execute_result"
    }
   ],
   "source": [
    "y.shape"
   ]
  },
  {
   "cell_type": "markdown",
   "id": "1f9aeafb",
   "metadata": {},
   "source": [
    "## Line plot for Experience V/s Salary"
   ]
  },
  {
   "cell_type": "code",
   "execution_count": 268,
   "id": "97f52f89",
   "metadata": {
    "ExecuteTime": {
     "end_time": "2022-04-07T15:52:36.360377Z",
     "start_time": "2022-04-07T15:52:36.189802Z"
    }
   },
   "outputs": [
    {
     "data": {
      "text/plain": [
       "[<matplotlib.lines.Line2D at 0x7fd877998790>]"
      ]
     },
     "execution_count": 268,
     "metadata": {},
     "output_type": "execute_result"
    },
    {
     "data": {
      "image/png": "[encoded data removed]",
      "text/plain": [
       "<Figure size 432x288 with 1 Axes>"
      ]
     },
     "metadata": {
      "needs_background": "light"
     },
     "output_type": "display_data"
    }
   ],
   "source": [
    "plt.plot(X,y)"
   ]
  },
  {
   "cell_type": "markdown",
   "id": "a8be4add",
   "metadata": {},
   "source": [
    "## Scatter plot for Experience V/s Salary"
   ]
  },
  {
   "cell_type": "code",
   "execution_count": 269,
   "id": "f90c1166",
   "metadata": {
    "ExecuteTime": {
     "end_time": "2022-04-07T15:52:51.062642Z",
     "start_time": "2022-04-07T15:52:50.869477Z"
    }
   },
   "outputs": [
    {
     "data": {
      "text/plain": [
       "<matplotlib.collections.PathCollection at 0x7fd8774282b0>"
      ]
     },
     "execution_count": 269,
     "metadata": {},
     "output_type": "execute_result"
    },
    {
     "data": {
      "image/png": "[encoded data removed]",
      "text/plain": [
       "<Figure size 432x288 with 1 Axes>"
      ]
     },
     "metadata": {
      "needs_background": "light"
     },
     "output_type": "display_data"
    }
   ],
   "source": [
    "plt.scatter(X,y)"
   ]
  },
  {
   "cell_type": "markdown",
   "id": "64d9f752",
   "metadata": {},
   "source": [
    "## Converting Single dimension data to 2-Dimensional data"
   ]
  },
  {
   "cell_type": "code",
   "execution_count": 264,
   "id": "24fcc90f",
   "metadata": {
    "ExecuteTime": {
     "end_time": "2022-04-07T15:51:55.652388Z",
     "start_time": "2022-04-07T15:51:55.647707Z"
    }
   },
   "outputs": [],
   "source": [
    "X = df[[\"YearsExperience\"]]\n",
    "y = df[[\"Salary\"]]"
   ]
  },
  {
   "cell_type": "code",
   "execution_count": 265,
   "id": "68f482df",
   "metadata": {
    "ExecuteTime": {
     "end_time": "2022-04-07T15:51:56.330363Z",
     "start_time": "2022-04-07T15:51:56.326138Z"
    }
   },
   "outputs": [
    {
     "data": {
      "text/plain": [
       "(30, 1)"
      ]
     },
     "execution_count": 265,
     "metadata": {},
     "output_type": "execute_result"
    }
   ],
   "source": [
    "X.shape"
   ]
  },
  {
   "cell_type": "code",
   "execution_count": 266,
   "id": "85a13406",
   "metadata": {
    "ExecuteTime": {
     "end_time": "2022-04-07T15:52:00.722527Z",
     "start_time": "2022-04-07T15:52:00.717957Z"
    }
   },
   "outputs": [
    {
     "data": {
      "text/plain": [
       "(30, 1)"
      ]
     },
     "execution_count": 266,
     "metadata": {},
     "output_type": "execute_result"
    }
   ],
   "source": [
    "y.shape"
   ]
  },
  {
   "cell_type": "markdown",
   "id": "029d6b04",
   "metadata": {},
   "source": [
    "## Creating Train and Test data from raw data"
   ]
  },
  {
   "cell_type": "code",
   "execution_count": 270,
   "id": "31775ee9",
   "metadata": {
    "ExecuteTime": {
     "end_time": "2022-04-07T15:55:07.183387Z",
     "start_time": "2022-04-07T15:55:07.177874Z"
    }
   },
   "outputs": [],
   "source": [
    "X_train,X_test,y_train,y_test = train_test_split(X,y,test_size=.2,random_state=10)"
   ]
  },
  {
   "cell_type": "code",
   "execution_count": 272,
   "id": "9c0d14f4",
   "metadata": {
    "ExecuteTime": {
     "end_time": "2022-04-07T15:55:28.038470Z",
     "start_time": "2022-04-07T15:55:28.033762Z"
    }
   },
   "outputs": [
    {
     "data": {
      "text/plain": [
       "(24, 1)"
      ]
     },
     "execution_count": 272,
     "metadata": {},
     "output_type": "execute_result"
    }
   ],
   "source": [
    "X_train.shape"
   ]
  },
  {
   "cell_type": "code",
   "execution_count": 273,
   "id": "3f723717",
   "metadata": {
    "ExecuteTime": {
     "end_time": "2022-04-07T15:55:32.684526Z",
     "start_time": "2022-04-07T15:55:32.672082Z"
    }
   },
   "outputs": [
    {
     "data": {
      "text/html": [
       "<div>\n",
       "<style scoped>\n",
       "    .dataframe tbody tr th:only-of-type {\n",
       "        vertical-align: middle;\n",
       "    }\n",
       "\n",
       "    .dataframe tbody tr th {\n",
       "        vertical-align: top;\n",
       "    }\n",
       "\n",
       "    .dataframe thead th {\n",
       "        text-align: right;\n",
       "    }\n",
       "</style>\n",
       "<table border=\"1\" class=\"dataframe\">\n",
       "  <thead>\n",
       "    <tr style=\"text-align: right;\">\n",
       "      <th></th>\n",
       "      <th>YearsExperience</th>\n",
       "    </tr>\n",
       "  </thead>\n",
       "  <tbody>\n",
       "    <tr>\n",
       "      <th>13</th>\n",
       "      <td>4.1</td>\n",
       "    </tr>\n",
       "    <tr>\n",
       "      <th>27</th>\n",
       "      <td>9.6</td>\n",
       "    </tr>\n",
       "    <tr>\n",
       "      <th>12</th>\n",
       "      <td>4.0</td>\n",
       "    </tr>\n",
       "    <tr>\n",
       "      <th>1</th>\n",
       "      <td>1.3</td>\n",
       "    </tr>\n",
       "    <tr>\n",
       "      <th>19</th>\n",
       "      <td>6.0</td>\n",
       "    </tr>\n",
       "    <tr>\n",
       "      <th>14</th>\n",
       "      <td>4.5</td>\n",
       "    </tr>\n",
       "    <tr>\n",
       "      <th>18</th>\n",
       "      <td>5.9</td>\n",
       "    </tr>\n",
       "    <tr>\n",
       "      <th>6</th>\n",
       "      <td>3.0</td>\n",
       "    </tr>\n",
       "    <tr>\n",
       "      <th>11</th>\n",
       "      <td>4.0</td>\n",
       "    </tr>\n",
       "    <tr>\n",
       "      <th>23</th>\n",
       "      <td>8.2</td>\n",
       "    </tr>\n",
       "    <tr>\n",
       "      <th>24</th>\n",
       "      <td>8.7</td>\n",
       "    </tr>\n",
       "    <tr>\n",
       "      <th>28</th>\n",
       "      <td>10.3</td>\n",
       "    </tr>\n",
       "    <tr>\n",
       "      <th>22</th>\n",
       "      <td>7.9</td>\n",
       "    </tr>\n",
       "    <tr>\n",
       "      <th>10</th>\n",
       "      <td>3.9</td>\n",
       "    </tr>\n",
       "    <tr>\n",
       "      <th>26</th>\n",
       "      <td>9.5</td>\n",
       "    </tr>\n",
       "    <tr>\n",
       "      <th>29</th>\n",
       "      <td>10.5</td>\n",
       "    </tr>\n",
       "    <tr>\n",
       "      <th>8</th>\n",
       "      <td>3.2</td>\n",
       "    </tr>\n",
       "    <tr>\n",
       "      <th>25</th>\n",
       "      <td>9.0</td>\n",
       "    </tr>\n",
       "    <tr>\n",
       "      <th>16</th>\n",
       "      <td>5.1</td>\n",
       "    </tr>\n",
       "    <tr>\n",
       "      <th>17</th>\n",
       "      <td>5.3</td>\n",
       "    </tr>\n",
       "    <tr>\n",
       "      <th>0</th>\n",
       "      <td>1.1</td>\n",
       "    </tr>\n",
       "    <tr>\n",
       "      <th>15</th>\n",
       "      <td>4.9</td>\n",
       "    </tr>\n",
       "    <tr>\n",
       "      <th>4</th>\n",
       "      <td>2.2</td>\n",
       "    </tr>\n",
       "    <tr>\n",
       "      <th>9</th>\n",
       "      <td>3.7</td>\n",
       "    </tr>\n",
       "  </tbody>\n",
       "</table>\n",
       "</div>"
      ],
      "text/plain": [
       "    YearsExperience\n",
       "13              4.1\n",
       "27              9.6\n",
       "12              4.0\n",
       "1               1.3\n",
       "19              6.0\n",
       "14              4.5\n",
       "18              5.9\n",
       "6               3.0\n",
       "11              4.0\n",
       "23              8.2\n",
       "24              8.7\n",
       "28             10.3\n",
       "22              7.9\n",
       "10              3.9\n",
       "26              9.5\n",
       "29             10.5\n",
       "8               3.2\n",
       "25              9.0\n",
       "16              5.1\n",
       "17              5.3\n",
       "0               1.1\n",
       "15              4.9\n",
       "4               2.2\n",
       "9               3.7"
      ]
     },
     "execution_count": 273,
     "metadata": {},
     "output_type": "execute_result"
    }
   ],
   "source": [
    "X_train"
   ]
  },
  {
   "cell_type": "code",
   "execution_count": 275,
   "id": "1ad4434e",
   "metadata": {
    "ExecuteTime": {
     "end_time": "2022-04-07T15:55:45.886839Z",
     "start_time": "2022-04-07T15:55:45.878348Z"
    }
   },
   "outputs": [
    {
     "data": {
      "text/html": [
       "<div>\n",
       "<style scoped>\n",
       "    .dataframe tbody tr th:only-of-type {\n",
       "        vertical-align: middle;\n",
       "    }\n",
       "\n",
       "    .dataframe tbody tr th {\n",
       "        vertical-align: top;\n",
       "    }\n",
       "\n",
       "    .dataframe thead th {\n",
       "        text-align: right;\n",
       "    }\n",
       "</style>\n",
       "<table border=\"1\" class=\"dataframe\">\n",
       "  <thead>\n",
       "    <tr style=\"text-align: right;\">\n",
       "      <th></th>\n",
       "      <th>YearsExperience</th>\n",
       "    </tr>\n",
       "  </thead>\n",
       "  <tbody>\n",
       "    <tr>\n",
       "      <th>20</th>\n",
       "      <td>6.8</td>\n",
       "    </tr>\n",
       "    <tr>\n",
       "      <th>7</th>\n",
       "      <td>3.2</td>\n",
       "    </tr>\n",
       "    <tr>\n",
       "      <th>5</th>\n",
       "      <td>2.9</td>\n",
       "    </tr>\n",
       "    <tr>\n",
       "      <th>2</th>\n",
       "      <td>1.5</td>\n",
       "    </tr>\n",
       "    <tr>\n",
       "      <th>3</th>\n",
       "      <td>2.0</td>\n",
       "    </tr>\n",
       "    <tr>\n",
       "      <th>21</th>\n",
       "      <td>7.1</td>\n",
       "    </tr>\n",
       "  </tbody>\n",
       "</table>\n",
       "</div>"
      ],
      "text/plain": [
       "    YearsExperience\n",
       "20              6.8\n",
       "7               3.2\n",
       "5               2.9\n",
       "2               1.5\n",
       "3               2.0\n",
       "21              7.1"
      ]
     },
     "execution_count": 275,
     "metadata": {},
     "output_type": "execute_result"
    }
   ],
   "source": [
    "X_test"
   ]
  },
  {
   "cell_type": "code",
   "execution_count": 276,
   "id": "ed483ad0",
   "metadata": {
    "ExecuteTime": {
     "end_time": "2022-04-07T15:56:03.823405Z",
     "start_time": "2022-04-07T15:56:03.818884Z"
    }
   },
   "outputs": [
    {
     "data": {
      "text/plain": [
       "(6, 1)"
      ]
     },
     "execution_count": 276,
     "metadata": {},
     "output_type": "execute_result"
    }
   ],
   "source": [
    "X_test.shape"
   ]
  },
  {
   "cell_type": "code",
   "execution_count": 278,
   "id": "26c13cd9",
   "metadata": {
    "ExecuteTime": {
     "end_time": "2022-04-07T15:56:28.345093Z",
     "start_time": "2022-04-07T15:56:28.337044Z"
    }
   },
   "outputs": [
    {
     "data": {
      "text/html": [
       "<div>\n",
       "<style scoped>\n",
       "    .dataframe tbody tr th:only-of-type {\n",
       "        vertical-align: middle;\n",
       "    }\n",
       "\n",
       "    .dataframe tbody tr th {\n",
       "        vertical-align: top;\n",
       "    }\n",
       "\n",
       "    .dataframe thead th {\n",
       "        text-align: right;\n",
       "    }\n",
       "</style>\n",
       "<table border=\"1\" class=\"dataframe\">\n",
       "  <thead>\n",
       "    <tr style=\"text-align: right;\">\n",
       "      <th></th>\n",
       "      <th>Salary</th>\n",
       "    </tr>\n",
       "  </thead>\n",
       "  <tbody>\n",
       "    <tr>\n",
       "      <th>20</th>\n",
       "      <td>91738.0</td>\n",
       "    </tr>\n",
       "    <tr>\n",
       "      <th>7</th>\n",
       "      <td>54445.0</td>\n",
       "    </tr>\n",
       "    <tr>\n",
       "      <th>5</th>\n",
       "      <td>56642.0</td>\n",
       "    </tr>\n",
       "    <tr>\n",
       "      <th>2</th>\n",
       "      <td>37731.0</td>\n",
       "    </tr>\n",
       "    <tr>\n",
       "      <th>3</th>\n",
       "      <td>43525.0</td>\n",
       "    </tr>\n",
       "    <tr>\n",
       "      <th>21</th>\n",
       "      <td>98273.0</td>\n",
       "    </tr>\n",
       "  </tbody>\n",
       "</table>\n",
       "</div>"
      ],
      "text/plain": [
       "     Salary\n",
       "20  91738.0\n",
       "7   54445.0\n",
       "5   56642.0\n",
       "2   37731.0\n",
       "3   43525.0\n",
       "21  98273.0"
      ]
     },
     "execution_count": 278,
     "metadata": {},
     "output_type": "execute_result"
    }
   ],
   "source": [
    "y_test"
   ]
  },
  {
   "cell_type": "code",
   "execution_count": 277,
   "id": "448f22e5",
   "metadata": {
    "ExecuteTime": {
     "end_time": "2022-04-07T15:56:15.102091Z",
     "start_time": "2022-04-07T15:56:15.096914Z"
    }
   },
   "outputs": [
    {
     "data": {
      "text/plain": [
       "(6, 1)"
      ]
     },
     "execution_count": 277,
     "metadata": {},
     "output_type": "execute_result"
    }
   ],
   "source": [
    "y_test.shape"
   ]
  },
  {
   "cell_type": "markdown",
   "id": "c8a31081",
   "metadata": {},
   "source": [
    "## Creating an Object from LinearRegression Function"
   ]
  },
  {
   "cell_type": "code",
   "execution_count": 279,
   "id": "46cf61cd",
   "metadata": {
    "ExecuteTime": {
     "end_time": "2022-04-07T15:57:47.165994Z",
     "start_time": "2022-04-07T15:57:47.163183Z"
    }
   },
   "outputs": [],
   "source": [
    "lr = LinearRegression()"
   ]
  },
  {
   "cell_type": "code",
   "execution_count": 280,
   "id": "49d2205d",
   "metadata": {
    "ExecuteTime": {
     "end_time": "2022-04-07T15:57:49.963233Z",
     "start_time": "2022-04-07T15:57:49.958295Z"
    }
   },
   "outputs": [
    {
     "data": {
      "text/plain": [
       "LinearRegression()"
      ]
     },
     "execution_count": 280,
     "metadata": {},
     "output_type": "execute_result"
    }
   ],
   "source": [
    "lr"
   ]
  },
  {
   "cell_type": "code",
   "execution_count": 282,
   "id": "35f914cc",
   "metadata": {
    "ExecuteTime": {
     "end_time": "2022-04-07T15:58:01.356733Z",
     "start_time": "2022-04-07T15:58:01.351897Z"
    }
   },
   "outputs": [
    {
     "data": {
      "text/plain": [
       "{'copy_X': True,\n",
       " 'fit_intercept': True,\n",
       " 'n_jobs': None,\n",
       " 'normalize': False,\n",
       " 'positive': False}"
      ]
     },
     "execution_count": 282,
     "metadata": {},
     "output_type": "execute_result"
    }
   ],
   "source": [
    "lr.get_params()"
   ]
  },
  {
   "cell_type": "code",
   "execution_count": 283,
   "id": "db730de1",
   "metadata": {
    "ExecuteTime": {
     "end_time": "2022-04-07T15:58:10.441701Z",
     "start_time": "2022-04-07T15:58:10.436528Z"
    }
   },
   "outputs": [
    {
     "data": {
      "text/plain": [
       "False"
      ]
     },
     "execution_count": 283,
     "metadata": {},
     "output_type": "execute_result"
    }
   ],
   "source": [
    "lr.normalize"
   ]
  },
  {
   "cell_type": "markdown",
   "id": "7e627c3a",
   "metadata": {},
   "source": [
    "## Fitting data into LinearRegression object to have best fit line"
   ]
  },
  {
   "cell_type": "code",
   "execution_count": 284,
   "id": "dd470c59",
   "metadata": {
    "ExecuteTime": {
     "end_time": "2022-04-07T15:59:02.696412Z",
     "start_time": "2022-04-07T15:59:02.686324Z"
    }
   },
   "outputs": [
    {
     "data": {
      "text/plain": [
       "LinearRegression()"
      ]
     },
     "execution_count": 284,
     "metadata": {},
     "output_type": "execute_result"
    }
   ],
   "source": [
    "lr.fit(X_train,y_train)"
   ]
  },
  {
   "cell_type": "markdown",
   "id": "927a55da",
   "metadata": {},
   "source": [
    "## Predicting salary for given number of year of experience from test data"
   ]
  },
  {
   "cell_type": "code",
   "execution_count": 286,
   "id": "c1b1c818",
   "metadata": {
    "ExecuteTime": {
     "end_time": "2022-04-07T15:59:40.589391Z",
     "start_time": "2022-04-07T15:59:40.580148Z"
    }
   },
   "outputs": [
    {
     "data": {
      "text/plain": [
       "array([[89715.76498848],\n",
       "       [56031.05821174],\n",
       "       [53223.99931368],\n",
       "       [40124.39112273],\n",
       "       [44802.8226195 ],\n",
       "       [92522.82388655]])"
      ]
     },
     "execution_count": 286,
     "metadata": {},
     "output_type": "execute_result"
    }
   ],
   "source": [
    "y_pred = lr.predict(X_test)\n",
    "y_pred"
   ]
  },
  {
   "cell_type": "markdown",
   "id": "f3aa7988",
   "metadata": {},
   "source": [
    "## Plotting Predicted Salary and Actual Value"
   ]
  },
  {
   "cell_type": "code",
   "execution_count": 292,
   "id": "9577453e",
   "metadata": {
    "ExecuteTime": {
     "end_time": "2022-04-07T16:01:35.384673Z",
     "start_time": "2022-04-07T16:01:35.096267Z"
    }
   },
   "outputs": [
    {
     "data": {
      "image/png": "[encoded data removed]",
      "text/plain": [
       "<Figure size 432x288 with 1 Axes>"
      ]
     },
     "metadata": {
      "needs_background": "light"
     },
     "output_type": "display_data"
    }
   ],
   "source": [
    "plt.scatter(X_test,y_test,color=\"g\",alpha=.5,label=\"Actual Value\")\n",
    "plt.scatter(X_test,y_pred,color=\"r\",alpha=.8,label=\"Predicated Value\")\n",
    "plt.legend()\n",
    "plt.show()"
   ]
  },
  {
   "cell_type": "code",
   "execution_count": 295,
   "id": "cc3fe086",
   "metadata": {
    "ExecuteTime": {
     "end_time": "2022-04-07T16:03:02.947847Z",
     "start_time": "2022-04-07T16:03:02.701784Z"
    }
   },
   "outputs": [
    {
     "data": {
      "image/png": "[encoded data removed]",
      "text/plain": [
       "<Figure size 432x288 with 1 Axes>"
      ]
     },
     "metadata": {
      "needs_background": "light"
     },
     "output_type": "display_data"
    }
   ],
   "source": [
    "plt.scatter(X_train,y_train,s=40,alpha=.4)\n",
    "plt.plot(X_test,y_test,\".b\",label=\"True Value\")\n",
    "plt.scatter(X_test,y_pred,s=50,color=\"r\",label=\"Predicted Value\")\n",
    "# plt.scatter(X_train,lr.predict(X_train),s=50,color=\"k\")\\\n",
    "plt.legend()\n",
    "plt.show()"
   ]
  },
  {
   "cell_type": "markdown",
   "id": "2eedea9a",
   "metadata": {},
   "source": [
    "## Plotting Rgression line for Predicted Salary and Actual Value"
   ]
  },
  {
   "cell_type": "code",
   "execution_count": 296,
   "id": "1c5ae57c",
   "metadata": {
    "ExecuteTime": {
     "end_time": "2022-04-07T16:03:44.568670Z",
     "start_time": "2022-04-07T16:03:44.118642Z"
    }
   },
   "outputs": [
    {
     "name": "stderr",
     "output_type": "stream",
     "text": [
      "/Users/pksoni/opt/anaconda3/lib/python3.9/site-packages/seaborn/_decorators.py:36: FutureWarning: Pass the following variables as keyword args: x, y. From version 0.12, the only valid positional argument will be `data`, and passing other arguments without an explicit keyword will result in an error or misinterpretation.\n",
      "  warnings.warn(\n"
     ]
    },
    {
     "data": {
      "text/plain": [
       "<matplotlib.collections.PathCollection at 0x7fd877d038e0>"
      ]
     },
     "execution_count": 296,
     "metadata": {},
     "output_type": "execute_result"
    },
    {
     "data": {
      "image/png": "[encoded data removed]",
      "text/plain": [
       "<Figure size 432x288 with 1 Axes>"
      ]
     },
     "metadata": {
      "needs_background": "light"
     },
     "output_type": "display_data"
    }
   ],
   "source": [
    "sns.regplot(X_train,y_train)\n",
    "plt.scatter(X_test,y_test,s=20,color=\"g\")\n",
    "plt.scatter(X_test,y_pred,s=20,color=\"r\")"
   ]
  },
  {
   "cell_type": "markdown",
   "id": "a1ff6b6f",
   "metadata": {},
   "source": [
    "## KDE plot for True Vs Predicted Values"
   ]
  },
  {
   "cell_type": "code",
   "execution_count": 302,
   "id": "1bfa8bb4",
   "metadata": {
    "ExecuteTime": {
     "end_time": "2022-04-07T16:05:49.171685Z",
     "start_time": "2022-04-07T16:05:49.165661Z"
    }
   },
   "outputs": [
    {
     "data": {
      "text/plain": [
       "20    91738.0\n",
       "7     54445.0\n",
       "5     56642.0\n",
       "2     37731.0\n",
       "3     43525.0\n",
       "21    98273.0\n",
       "Name: Salary, dtype: float64"
      ]
     },
     "execution_count": 302,
     "metadata": {},
     "output_type": "execute_result"
    }
   ],
   "source": [
    "y_test.Salary"
   ]
  },
  {
   "cell_type": "code",
   "execution_count": 317,
   "id": "02e66816",
   "metadata": {
    "ExecuteTime": {
     "end_time": "2022-04-07T16:08:07.760432Z",
     "start_time": "2022-04-07T16:08:07.751376Z"
    }
   },
   "outputs": [
    {
     "data": {
      "text/html": [
       "<div>\n",
       "<style scoped>\n",
       "    .dataframe tbody tr th:only-of-type {\n",
       "        vertical-align: middle;\n",
       "    }\n",
       "\n",
       "    .dataframe tbody tr th {\n",
       "        vertical-align: top;\n",
       "    }\n",
       "\n",
       "    .dataframe thead th {\n",
       "        text-align: right;\n",
       "    }\n",
       "</style>\n",
       "<table border=\"1\" class=\"dataframe\">\n",
       "  <thead>\n",
       "    <tr style=\"text-align: right;\">\n",
       "      <th></th>\n",
       "      <th>0</th>\n",
       "    </tr>\n",
       "  </thead>\n",
       "  <tbody>\n",
       "    <tr>\n",
       "      <th>0</th>\n",
       "      <td>89715.764988</td>\n",
       "    </tr>\n",
       "    <tr>\n",
       "      <th>1</th>\n",
       "      <td>56031.058212</td>\n",
       "    </tr>\n",
       "    <tr>\n",
       "      <th>2</th>\n",
       "      <td>53223.999314</td>\n",
       "    </tr>\n",
       "    <tr>\n",
       "      <th>3</th>\n",
       "      <td>40124.391123</td>\n",
       "    </tr>\n",
       "    <tr>\n",
       "      <th>4</th>\n",
       "      <td>44802.822619</td>\n",
       "    </tr>\n",
       "    <tr>\n",
       "      <th>5</th>\n",
       "      <td>92522.823887</td>\n",
       "    </tr>\n",
       "  </tbody>\n",
       "</table>\n",
       "</div>"
      ],
      "text/plain": [
       "              0\n",
       "0  89715.764988\n",
       "1  56031.058212\n",
       "2  53223.999314\n",
       "3  40124.391123\n",
       "4  44802.822619\n",
       "5  92522.823887"
      ]
     },
     "execution_count": 317,
     "metadata": {},
     "output_type": "execute_result"
    }
   ],
   "source": [
    "y_pred_df = pd.DataFrame(y_pred.tolist())\n",
    "y_pred_df"
   ]
  },
  {
   "cell_type": "code",
   "execution_count": 320,
   "id": "386efad9",
   "metadata": {
    "ExecuteTime": {
     "end_time": "2022-04-07T16:08:45.750009Z",
     "start_time": "2022-04-07T16:08:45.453740Z"
    }
   },
   "outputs": [
    {
     "data": {
      "image/png": "[encoded data removed]",
      "text/plain": [
       "<Figure size 432x288 with 1 Axes>"
      ]
     },
     "metadata": {
      "needs_background": "light"
     },
     "output_type": "display_data"
    }
   ],
   "source": [
    "sns.kdeplot(y_test.Salary,label=\"True\")\n",
    "sns.kdeplot(y_pred_df[0],label=\"Predicted\")\n",
    "plt.legend()\n",
    "plt.show()"
   ]
  },
  {
   "cell_type": "markdown",
   "id": "14b39494",
   "metadata": {},
   "source": [
    "## How to Evaluate Linear regression model\n",
    "- R Square/Adjusted R Square: ` It provides an indication of goodness of fit `\n",
    "- Mean Square Error(MSE)/Root Mean Square Error(RMSE)\n",
    "- Mean Absolute Error(MAE)"
   ]
  },
  {
   "cell_type": "code",
   "execution_count": 321,
   "id": "af94d01b",
   "metadata": {
    "ExecuteTime": {
     "end_time": "2022-04-07T16:09:56.150233Z",
     "start_time": "2022-04-07T16:09:56.142915Z"
    }
   },
   "outputs": [
    {
     "data": {
      "text/plain": [
       "0.9816423482070253"
      ]
     },
     "execution_count": 321,
     "metadata": {},
     "output_type": "execute_result"
    }
   ],
   "source": [
    "r2_score(y_test,y_pred)"
   ]
  },
  {
   "cell_type": "code",
   "execution_count": 322,
   "id": "ca898699",
   "metadata": {
    "ExecuteTime": {
     "end_time": "2022-04-07T16:10:24.057981Z",
     "start_time": "2022-04-07T16:10:24.048021Z"
    }
   },
   "outputs": [
    {
     "data": {
      "text/plain": [
       "2741.2806275420785"
      ]
     },
     "execution_count": 322,
     "metadata": {},
     "output_type": "execute_result"
    }
   ],
   "source": [
    "mean_absolute_error(y_test,y_pred)"
   ]
  },
  {
   "cell_type": "code",
   "execution_count": 323,
   "id": "aa1d60f1",
   "metadata": {
    "ExecuteTime": {
     "end_time": "2022-04-07T16:10:31.925888Z",
     "start_time": "2022-04-07T16:10:31.917592Z"
    }
   },
   "outputs": [
    {
     "data": {
      "text/plain": [
       "9785570.138914311"
      ]
     },
     "execution_count": 323,
     "metadata": {},
     "output_type": "execute_result"
    }
   ],
   "source": [
    "mean_squared_error(y_test,y_pred)"
   ]
  },
  {
   "cell_type": "markdown",
   "id": "d38d4e52",
   "metadata": {},
   "source": [
    "# Interview Questions"
   ]
  },
  {
   "cell_type": "markdown",
   "id": "f1309ba1",
   "metadata": {},
   "source": [
    "Best source:\n",
    "    - https://www.upgrad.com/blog/machine-learning-interview-questions-answers-ii/"
   ]
  },
  {
   "cell_type": "markdown",
   "id": "8084e5bc",
   "metadata": {},
   "source": [
    "## Must know this:    "
   ]
  },
  {
   "cell_type": "markdown",
   "id": "6e799741",
   "metadata": {},
   "source": [
    "### What is Residuals\n",
    "- The distance between the actual value and predicted values is called residual. If the observed points are far from the regression line, then the residual will be high, and so cost function will high. If the scatter points are close to the regression line, then the residual will be small and hence the cost function. "
   ]
  },
  {
   "cell_type": "markdown",
   "id": "fdf98600",
   "metadata": {},
   "source": [
    "### What is cost function"
   ]
  },
  {
   "cell_type": "markdown",
   "id": "22635f7b",
   "metadata": {},
   "source": [
    "$\\frac{1}{N}\\sum_{i=1}^{N}(y_i-y'_i)$\n",
    "- where: \n",
    "    - $y$ is True value\n",
    "    - $y'$ is predicted value , can also be written as $\\omega_0+\\omega_ix_i$"
   ]
  },
  {
   "cell_type": "markdown",
   "id": "0fda5f97",
   "metadata": {},
   "source": [
    "### what is bias and variance "
   ]
  },
  {
   "cell_type": "markdown",
   "id": "395af03c",
   "metadata": {},
   "source": [
    "### what is Under fitting model"
   ]
  },
  {
   "cell_type": "markdown",
   "id": "42e26610",
   "metadata": {},
   "source": [
    "### what is Over fitting model"
   ]
  },
  {
   "cell_type": "markdown",
   "id": "8f1cf983",
   "metadata": {},
   "source": [
    "### How to solve Under & Over fitting model"
   ]
  },
  {
   "cell_type": "markdown",
   "id": "e58108d9",
   "metadata": {},
   "source": [
    "### What is Ridge Regression"
   ]
  },
  {
   "cell_type": "markdown",
   "id": "ca414162",
   "metadata": {},
   "source": [
    "### What is Lasso Regression"
   ]
  }
 ],
 "metadata": {
  "kernelspec": {
   "display_name": "Python 3 (ipykernel)",
   "language": "python",
   "name": "python3"
  },
  "language_info": {
   "codemirror_mode": {
    "name": "ipython",
    "version": 3
   },
   "file_extension": ".py",
   "mimetype": "text/x-python",
   "name": "python",
   "nbconvert_exporter": "python",
   "pygments_lexer": "ipython3",
   "version": "3.9.7"
  },
  "toc": {
   "base_numbering": 1,
   "nav_menu": {},
   "number_sections": true,
   "sideBar": true,
   "skip_h1_title": false,
   "title_cell": "Table of Contents",
   "title_sidebar": "Contents",
   "toc_cell": false,
   "toc_position": {},
   "toc_section_display": true,
   "toc_window_display": true
  },
  "varInspector": {
   "cols": {
    "lenName": 16,
    "lenType": 16,
    "lenVar": 40
   },
   "kernels_config": {
    "python": {
     "delete_cmd_postfix": "",
     "delete_cmd_prefix": "del ",
     "library": "var_list.py",
     "varRefreshCmd": "print(var_dic_list())"
    },
    "r": {
     "delete_cmd_postfix": ") ",
     "delete_cmd_prefix": "rm(",
     "library": "var_list.r",
     "varRefreshCmd": "cat(var_dic_list()) "
    }
   },
   "types_to_exclude": [
    "module",
    "function",
    "builtin_function_or_method",
    "instance",
    "_Feature"
   ],
   "window_display": false
  }
 },
 "nbformat": 4,
 "nbformat_minor": 5
}
