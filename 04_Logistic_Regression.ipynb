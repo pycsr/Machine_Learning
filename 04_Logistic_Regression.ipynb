{
 "cells": [
  {
   "cell_type": "markdown",
   "id": "72a93347",
   "metadata": {},
   "source": [
    "# Logistics Regression\n",
    "- Dataset reference: https://archive.ics.uci.edu/ml/datasets/Ionosphere"
   ]
  },
  {
   "cell_type": "markdown",
   "id": "2243cfa3",
   "metadata": {},
   "source": [
    "# What is Logistic Regression\n",
    "- Logistic regression is a statistical analysis method to predict a binary outcome, such as yes or no, based on prior observations of a data set. A logistic regression model predicts a dependent data variable by analyzing the relationship between one or more existing independent variables.\n",
    "- It is named 'Logistic Regression' because its underlying technique is quite the same as Linear Regression. "
   ]
  },
  {
   "cell_type": "markdown",
   "id": "8ef59ca0",
   "metadata": {},
   "source": [
    "# Where to use Logistic Regression\n",
    "- Logistic Regression is used when the dependent variable(target) is categorical. For example, To predict whether an email is spam (1) or (0) Whether the tumor is malignant (1) or not (0)"
   ]
  },
  {
   "cell_type": "markdown",
   "id": "986db8ad",
   "metadata": {
    "ExecuteTime": {
     "end_time": "2022-04-16T11:29:19.167272Z",
     "start_time": "2022-04-16T11:29:19.163116Z"
    }
   },
   "source": [
    "# Mathematical formula of `Logistic Regression` or `Logit Function` or `Sigmoid Function` "
   ]
  },
  {
   "cell_type": "markdown",
   "id": "a8ffe814",
   "metadata": {
    "ExecuteTime": {
     "end_time": "2022-04-16T11:29:28.566806Z",
     "start_time": "2022-04-16T11:29:28.563287Z"
    }
   },
   "source": [
    "$$S = \\frac{1}{(1-\\exp^{-x})}$$\n",
    "or \n",
    "$$S = \\frac{1}{(1-\\exp^{-(mx+c)})}$$\n",
    "- Where x is feature(s)"
   ]
  },
  {
   "cell_type": "code",
   "execution_count": 16,
   "id": "fc4d7ada",
   "metadata": {
    "ExecuteTime": {
     "end_time": "2022-04-16T12:09:44.448808Z",
     "start_time": "2022-04-16T12:09:44.443379Z"
    }
   },
   "outputs": [],
   "source": [
    "import numpy as np\n",
    "import pandas as pd\n",
    "import seaborn as sns\n",
    "import matplotlib.pyplot as plt\n",
    "from sklearn.linear_model import LogisticRegression,LinearRegression\n",
    "from sklearn.model_selection import train_test_split\n",
    "from sklearn.metrics import accuracy_score,confusion_matrix,r2_score"
   ]
  },
  {
   "cell_type": "code",
   "execution_count": 3,
   "id": "80288554",
   "metadata": {
    "ExecuteTime": {
     "end_time": "2022-04-16T12:06:07.507671Z",
     "start_time": "2022-04-16T12:06:07.477338Z"
    }
   },
   "outputs": [
    {
     "data": {
      "text/html": [
       "<div>\n",
       "<style scoped>\n",
       "    .dataframe tbody tr th:only-of-type {\n",
       "        vertical-align: middle;\n",
       "    }\n",
       "\n",
       "    .dataframe tbody tr th {\n",
       "        vertical-align: top;\n",
       "    }\n",
       "\n",
       "    .dataframe thead th {\n",
       "        text-align: right;\n",
       "    }\n",
       "</style>\n",
       "<table border=\"1\" class=\"dataframe\">\n",
       "  <thead>\n",
       "    <tr style=\"text-align: right;\">\n",
       "      <th></th>\n",
       "      <th>0</th>\n",
       "      <th>1</th>\n",
       "      <th>2</th>\n",
       "      <th>3</th>\n",
       "      <th>4</th>\n",
       "      <th>5</th>\n",
       "      <th>6</th>\n",
       "      <th>7</th>\n",
       "      <th>8</th>\n",
       "      <th>9</th>\n",
       "      <th>...</th>\n",
       "      <th>25</th>\n",
       "      <th>26</th>\n",
       "      <th>27</th>\n",
       "      <th>28</th>\n",
       "      <th>29</th>\n",
       "      <th>30</th>\n",
       "      <th>31</th>\n",
       "      <th>32</th>\n",
       "      <th>33</th>\n",
       "      <th>34</th>\n",
       "    </tr>\n",
       "  </thead>\n",
       "  <tbody>\n",
       "    <tr>\n",
       "      <th>0</th>\n",
       "      <td>1</td>\n",
       "      <td>0</td>\n",
       "      <td>0.99539</td>\n",
       "      <td>-0.05889</td>\n",
       "      <td>0.85243</td>\n",
       "      <td>0.02306</td>\n",
       "      <td>0.83398</td>\n",
       "      <td>-0.37708</td>\n",
       "      <td>1.0</td>\n",
       "      <td>0.03760</td>\n",
       "      <td>...</td>\n",
       "      <td>-0.51171</td>\n",
       "      <td>0.41078</td>\n",
       "      <td>-0.46168</td>\n",
       "      <td>0.21266</td>\n",
       "      <td>-0.34090</td>\n",
       "      <td>0.42267</td>\n",
       "      <td>-0.54487</td>\n",
       "      <td>0.18641</td>\n",
       "      <td>-0.45300</td>\n",
       "      <td>g</td>\n",
       "    </tr>\n",
       "    <tr>\n",
       "      <th>1</th>\n",
       "      <td>1</td>\n",
       "      <td>0</td>\n",
       "      <td>1.00000</td>\n",
       "      <td>-0.18829</td>\n",
       "      <td>0.93035</td>\n",
       "      <td>-0.36156</td>\n",
       "      <td>-0.10868</td>\n",
       "      <td>-0.93597</td>\n",
       "      <td>1.0</td>\n",
       "      <td>-0.04549</td>\n",
       "      <td>...</td>\n",
       "      <td>-0.26569</td>\n",
       "      <td>-0.20468</td>\n",
       "      <td>-0.18401</td>\n",
       "      <td>-0.19040</td>\n",
       "      <td>-0.11593</td>\n",
       "      <td>-0.16626</td>\n",
       "      <td>-0.06288</td>\n",
       "      <td>-0.13738</td>\n",
       "      <td>-0.02447</td>\n",
       "      <td>b</td>\n",
       "    </tr>\n",
       "  </tbody>\n",
       "</table>\n",
       "<p>2 rows × 35 columns</p>\n",
       "</div>"
      ],
      "text/plain": [
       "   0   1        2        3        4        5        6        7    8        9   \\\n",
       "0   1   0  0.99539 -0.05889  0.85243  0.02306  0.83398 -0.37708  1.0  0.03760   \n",
       "1   1   0  1.00000 -0.18829  0.93035 -0.36156 -0.10868 -0.93597  1.0 -0.04549   \n",
       "\n",
       "   ...       25       26       27       28       29       30       31  \\\n",
       "0  ... -0.51171  0.41078 -0.46168  0.21266 -0.34090  0.42267 -0.54487   \n",
       "1  ... -0.26569 -0.20468 -0.18401 -0.19040 -0.11593 -0.16626 -0.06288   \n",
       "\n",
       "        32       33  34  \n",
       "0  0.18641 -0.45300   g  \n",
       "1 -0.13738 -0.02447   b  \n",
       "\n",
       "[2 rows x 35 columns]"
      ]
     },
     "execution_count": 3,
     "metadata": {},
     "output_type": "execute_result"
    }
   ],
   "source": [
    "df = pd.read_csv(\"ionosphere.data.csv\",header=None)\n",
    "df.head(2)"
   ]
  },
  {
   "cell_type": "code",
   "execution_count": 5,
   "id": "f40566bb",
   "metadata": {
    "ExecuteTime": {
     "end_time": "2022-04-16T12:07:08.292851Z",
     "start_time": "2022-04-16T12:07:08.287598Z"
    }
   },
   "outputs": [],
   "source": [
    "df[34].replace({\"g\":1,\"b\":0},inplace=True)"
   ]
  },
  {
   "cell_type": "code",
   "execution_count": 6,
   "id": "80b91e67",
   "metadata": {
    "ExecuteTime": {
     "end_time": "2022-04-16T12:07:13.869447Z",
     "start_time": "2022-04-16T12:07:13.842226Z"
    }
   },
   "outputs": [
    {
     "data": {
      "text/html": [
       "<div>\n",
       "<style scoped>\n",
       "    .dataframe tbody tr th:only-of-type {\n",
       "        vertical-align: middle;\n",
       "    }\n",
       "\n",
       "    .dataframe tbody tr th {\n",
       "        vertical-align: top;\n",
       "    }\n",
       "\n",
       "    .dataframe thead th {\n",
       "        text-align: right;\n",
       "    }\n",
       "</style>\n",
       "<table border=\"1\" class=\"dataframe\">\n",
       "  <thead>\n",
       "    <tr style=\"text-align: right;\">\n",
       "      <th></th>\n",
       "      <th>0</th>\n",
       "      <th>1</th>\n",
       "      <th>2</th>\n",
       "      <th>3</th>\n",
       "      <th>4</th>\n",
       "      <th>5</th>\n",
       "      <th>6</th>\n",
       "      <th>7</th>\n",
       "      <th>8</th>\n",
       "      <th>9</th>\n",
       "      <th>...</th>\n",
       "      <th>25</th>\n",
       "      <th>26</th>\n",
       "      <th>27</th>\n",
       "      <th>28</th>\n",
       "      <th>29</th>\n",
       "      <th>30</th>\n",
       "      <th>31</th>\n",
       "      <th>32</th>\n",
       "      <th>33</th>\n",
       "      <th>34</th>\n",
       "    </tr>\n",
       "  </thead>\n",
       "  <tbody>\n",
       "    <tr>\n",
       "      <th>0</th>\n",
       "      <td>1</td>\n",
       "      <td>0</td>\n",
       "      <td>0.99539</td>\n",
       "      <td>-0.05889</td>\n",
       "      <td>0.85243</td>\n",
       "      <td>0.02306</td>\n",
       "      <td>0.83398</td>\n",
       "      <td>-0.37708</td>\n",
       "      <td>1.00000</td>\n",
       "      <td>0.03760</td>\n",
       "      <td>...</td>\n",
       "      <td>-0.51171</td>\n",
       "      <td>0.41078</td>\n",
       "      <td>-0.46168</td>\n",
       "      <td>0.21266</td>\n",
       "      <td>-0.34090</td>\n",
       "      <td>0.42267</td>\n",
       "      <td>-0.54487</td>\n",
       "      <td>0.18641</td>\n",
       "      <td>-0.45300</td>\n",
       "      <td>1</td>\n",
       "    </tr>\n",
       "    <tr>\n",
       "      <th>1</th>\n",
       "      <td>1</td>\n",
       "      <td>0</td>\n",
       "      <td>1.00000</td>\n",
       "      <td>-0.18829</td>\n",
       "      <td>0.93035</td>\n",
       "      <td>-0.36156</td>\n",
       "      <td>-0.10868</td>\n",
       "      <td>-0.93597</td>\n",
       "      <td>1.00000</td>\n",
       "      <td>-0.04549</td>\n",
       "      <td>...</td>\n",
       "      <td>-0.26569</td>\n",
       "      <td>-0.20468</td>\n",
       "      <td>-0.18401</td>\n",
       "      <td>-0.19040</td>\n",
       "      <td>-0.11593</td>\n",
       "      <td>-0.16626</td>\n",
       "      <td>-0.06288</td>\n",
       "      <td>-0.13738</td>\n",
       "      <td>-0.02447</td>\n",
       "      <td>0</td>\n",
       "    </tr>\n",
       "    <tr>\n",
       "      <th>2</th>\n",
       "      <td>1</td>\n",
       "      <td>0</td>\n",
       "      <td>1.00000</td>\n",
       "      <td>-0.03365</td>\n",
       "      <td>1.00000</td>\n",
       "      <td>0.00485</td>\n",
       "      <td>1.00000</td>\n",
       "      <td>-0.12062</td>\n",
       "      <td>0.88965</td>\n",
       "      <td>0.01198</td>\n",
       "      <td>...</td>\n",
       "      <td>-0.40220</td>\n",
       "      <td>0.58984</td>\n",
       "      <td>-0.22145</td>\n",
       "      <td>0.43100</td>\n",
       "      <td>-0.17365</td>\n",
       "      <td>0.60436</td>\n",
       "      <td>-0.24180</td>\n",
       "      <td>0.56045</td>\n",
       "      <td>-0.38238</td>\n",
       "      <td>1</td>\n",
       "    </tr>\n",
       "  </tbody>\n",
       "</table>\n",
       "<p>3 rows × 35 columns</p>\n",
       "</div>"
      ],
      "text/plain": [
       "   0   1        2        3        4        5        6        7        8   \\\n",
       "0   1   0  0.99539 -0.05889  0.85243  0.02306  0.83398 -0.37708  1.00000   \n",
       "1   1   0  1.00000 -0.18829  0.93035 -0.36156 -0.10868 -0.93597  1.00000   \n",
       "2   1   0  1.00000 -0.03365  1.00000  0.00485  1.00000 -0.12062  0.88965   \n",
       "\n",
       "        9   ...       25       26       27       28       29       30  \\\n",
       "0  0.03760  ... -0.51171  0.41078 -0.46168  0.21266 -0.34090  0.42267   \n",
       "1 -0.04549  ... -0.26569 -0.20468 -0.18401 -0.19040 -0.11593 -0.16626   \n",
       "2  0.01198  ... -0.40220  0.58984 -0.22145  0.43100 -0.17365  0.60436   \n",
       "\n",
       "        31       32       33  34  \n",
       "0 -0.54487  0.18641 -0.45300   1  \n",
       "1 -0.06288 -0.13738 -0.02447   0  \n",
       "2 -0.24180  0.56045 -0.38238   1  \n",
       "\n",
       "[3 rows x 35 columns]"
      ]
     },
     "execution_count": 6,
     "metadata": {},
     "output_type": "execute_result"
    }
   ],
   "source": [
    "df.head(3)"
   ]
  },
  {
   "cell_type": "code",
   "execution_count": 10,
   "id": "91202a97",
   "metadata": {
    "ExecuteTime": {
     "end_time": "2022-04-16T12:08:34.019497Z",
     "start_time": "2022-04-16T12:08:34.015237Z"
    }
   },
   "outputs": [],
   "source": [
    "X,y = df.iloc[:,:-1],df.iloc[:,-1]"
   ]
  },
  {
   "cell_type": "code",
   "execution_count": 11,
   "id": "b2a09577",
   "metadata": {
    "ExecuteTime": {
     "end_time": "2022-04-16T12:08:34.741303Z",
     "start_time": "2022-04-16T12:08:34.736128Z"
    }
   },
   "outputs": [
    {
     "data": {
      "text/plain": [
       "(351, 34)"
      ]
     },
     "execution_count": 11,
     "metadata": {},
     "output_type": "execute_result"
    }
   ],
   "source": [
    "X.shape"
   ]
  },
  {
   "cell_type": "code",
   "execution_count": 12,
   "id": "1c4a5bc4",
   "metadata": {
    "ExecuteTime": {
     "end_time": "2022-04-16T12:08:45.959838Z",
     "start_time": "2022-04-16T12:08:45.953241Z"
    }
   },
   "outputs": [
    {
     "data": {
      "text/plain": [
       "(351,)"
      ]
     },
     "execution_count": 12,
     "metadata": {},
     "output_type": "execute_result"
    }
   ],
   "source": [
    "y.shape"
   ]
  },
  {
   "cell_type": "markdown",
   "id": "b1ab26de",
   "metadata": {},
   "source": [
    "# Linear Regression Model"
   ]
  },
  {
   "cell_type": "code",
   "execution_count": 15,
   "id": "abbb88d9",
   "metadata": {
    "ExecuteTime": {
     "end_time": "2022-04-16T12:09:32.785017Z",
     "start_time": "2022-04-16T12:09:32.758412Z"
    }
   },
   "outputs": [],
   "source": [
    "lr = LinearRegression()\n",
    "lr.fit(X,y)\n",
    "y_pred = lr.predict(X)"
   ]
  },
  {
   "cell_type": "code",
   "execution_count": 18,
   "id": "45d07096",
   "metadata": {
    "ExecuteTime": {
     "end_time": "2022-04-16T12:09:59.327485Z",
     "start_time": "2022-04-16T12:09:59.320713Z"
    }
   },
   "outputs": [
    {
     "data": {
      "text/plain": [
       "37.818941536576375"
      ]
     },
     "execution_count": 18,
     "metadata": {},
     "output_type": "execute_result"
    }
   ],
   "source": [
    "r2_score(y,y_pred)*61"
   ]
  },
  {
   "cell_type": "code",
   "execution_count": 22,
   "id": "64a9f6a2",
   "metadata": {
    "ExecuteTime": {
     "end_time": "2022-04-16T12:11:11.018961Z",
     "start_time": "2022-04-16T12:11:11.015043Z"
    }
   },
   "outputs": [],
   "source": [
    "y_pred_sort = sorted(y_pred)"
   ]
  },
  {
   "cell_type": "code",
   "execution_count": 25,
   "id": "36f1b2d3",
   "metadata": {
    "ExecuteTime": {
     "end_time": "2022-04-16T12:12:09.059957Z",
     "start_time": "2022-04-16T12:12:08.725660Z"
    }
   },
   "outputs": [
    {
     "data": {
      "image/png": "[encoded data removed]",
      "text/plain": [
       "<Figure size 1152x288 with 1 Axes>"
      ]
     },
     "metadata": {
      "needs_background": "light"
     },
     "output_type": "display_data"
    }
   ],
   "source": [
    "plt.figure(figsize=(16,4))\n",
    "plt.scatter(range(len(y)),y,label=\"y_true\")\n",
    "plt.scatter(range(len(y)),y_pred_sort,label=\"y_pred\")\n",
    "plt.legend()\n",
    "plt.show()"
   ]
  },
  {
   "cell_type": "code",
   "execution_count": 27,
   "id": "df980d0b",
   "metadata": {
    "ExecuteTime": {
     "end_time": "2022-04-16T12:13:26.175952Z",
     "start_time": "2022-04-16T12:13:26.150149Z"
    }
   },
   "outputs": [],
   "source": [
    "lor = LogisticRegression()\n",
    "lor.fit(X,y)\n",
    "y_pred = lor.predict(X)"
   ]
  },
  {
   "cell_type": "markdown",
   "id": "48102612",
   "metadata": {},
   "source": [
    "# Accuracy_Score"
   ]
  },
  {
   "cell_type": "code",
   "execution_count": 29,
   "id": "3c008ed9",
   "metadata": {
    "ExecuteTime": {
     "end_time": "2022-04-16T12:14:13.997561Z",
     "start_time": "2022-04-16T12:14:13.990393Z"
    }
   },
   "outputs": [
    {
     "data": {
      "text/plain": [
       "91.16809116809117"
      ]
     },
     "execution_count": 29,
     "metadata": {},
     "output_type": "execute_result"
    }
   ],
   "source": [
    "accuracy_score(y,y_pred)*100"
   ]
  },
  {
   "cell_type": "markdown",
   "id": "030b0791",
   "metadata": {},
   "source": [
    "# Confusion_Matrix"
   ]
  },
  {
   "cell_type": "code",
   "execution_count": 39,
   "id": "78d3d126",
   "metadata": {
    "ExecuteTime": {
     "end_time": "2022-04-16T12:19:24.851571Z",
     "start_time": "2022-04-16T12:19:24.838978Z"
    }
   },
   "outputs": [
    {
     "data": {
      "text/plain": [
       "array([[101,  25],\n",
       "       [  6, 219]])"
      ]
     },
     "execution_count": 39,
     "metadata": {},
     "output_type": "execute_result"
    }
   ],
   "source": [
    "confusion_matrix(y,y_pred)"
   ]
  },
  {
   "cell_type": "code",
   "execution_count": 44,
   "id": "44d06210",
   "metadata": {
    "ExecuteTime": {
     "end_time": "2022-04-16T12:20:17.997947Z",
     "start_time": "2022-04-16T12:20:17.790733Z"
    }
   },
   "outputs": [
    {
     "data": {
      "image/png": "[encoded data removed]",
      "text/plain": [
       "<Figure size 432x288 with 2 Axes>"
      ]
     },
     "metadata": {
      "needs_background": "light"
     },
     "output_type": "display_data"
    }
   ],
   "source": [
    "sns.heatmap(confusion_matrix(y,y_pred),annot=True,yticklabels=[\"g\",\"b\"],xticklabels=[\"g\",\"b\"],fmt=\"d\")\n",
    "plt.show()"
   ]
  },
  {
   "cell_type": "code",
   "execution_count": 30,
   "id": "b5f28f2a",
   "metadata": {
    "ExecuteTime": {
     "end_time": "2022-04-16T12:15:02.914613Z",
     "start_time": "2022-04-16T12:15:02.902988Z"
    }
   },
   "outputs": [],
   "source": [
    "y_prob = lor.predict_proba(X)"
   ]
  },
  {
   "cell_type": "code",
   "execution_count": 35,
   "id": "b8447803",
   "metadata": {
    "ExecuteTime": {
     "end_time": "2022-04-16T12:16:42.987850Z",
     "start_time": "2022-04-16T12:16:42.984584Z"
    }
   },
   "outputs": [],
   "source": [
    "y_prob_sort_0 = sorted(y_prob[:,0])\n",
    "y_prob_sort_1 = sorted(y_prob[:,1])"
   ]
  },
  {
   "cell_type": "code",
   "execution_count": 38,
   "id": "709d8020",
   "metadata": {
    "ExecuteTime": {
     "end_time": "2022-04-16T12:17:33.146208Z",
     "start_time": "2022-04-16T12:17:32.868849Z"
    }
   },
   "outputs": [
    {
     "data": {
      "image/png": "[encoded data removed]",
      "text/plain": [
       "<Figure size 1152x288 with 1 Axes>"
      ]
     },
     "metadata": {
      "needs_background": "light"
     },
     "output_type": "display_data"
    }
   ],
   "source": [
    "plt.figure(figsize=(16,4))\n",
    "plt.scatter(range(len(y)),y,label=\"y_true\")\n",
    "plt.scatter(range(len(y)),y_prob_sort_0,label=\"y_pred\")\n",
    "# plt.scatter(range(len(y)),y_prob_sort_1,label=\"y_pred\")\n",
    "plt.legend()\n",
    "plt.show()"
   ]
  }
 ],
 "metadata": {
  "kernelspec": {
   "display_name": "Python 3 (ipykernel)",
   "language": "python",
   "name": "python3"
  },
  "language_info": {
   "codemirror_mode": {
    "name": "ipython",
    "version": 3
   },
   "file_extension": ".py",
   "mimetype": "text/x-python",
   "name": "python",
   "nbconvert_exporter": "python",
   "pygments_lexer": "ipython3",
   "version": "3.9.7"
  },
  "toc": {
   "base_numbering": 1,
   "nav_menu": {},
   "number_sections": true,
   "sideBar": true,
   "skip_h1_title": false,
   "title_cell": "Table of Contents",
   "title_sidebar": "Contents",
   "toc_cell": false,
   "toc_position": {},
   "toc_section_display": true,
   "toc_window_display": true
  },
  "varInspector": {
   "cols": {
    "lenName": 16,
    "lenType": 16,
    "lenVar": 40
   },
   "kernels_config": {
    "python": {
     "delete_cmd_postfix": "",
     "delete_cmd_prefix": "del ",
     "library": "var_list.py",
     "varRefreshCmd": "print(var_dic_list())"
    },
    "r": {
     "delete_cmd_postfix": ") ",
     "delete_cmd_prefix": "rm(",
     "library": "var_list.r",
     "varRefreshCmd": "cat(var_dic_list()) "
    }
   },
   "types_to_exclude": [
    "module",
    "function",
    "builtin_function_or_method",
    "instance",
    "_Feature"
   ],
   "window_display": false
  }
 },
 "nbformat": 4,
 "nbformat_minor": 5
}
