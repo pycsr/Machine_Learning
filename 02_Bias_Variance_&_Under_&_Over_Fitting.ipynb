{
 "cells": [
  {
   "cell_type": "markdown",
   "id": "568c9430",
   "metadata": {},
   "source": [
    "# What is Linear Regression\n",
    "- In simple terms, linear regression is a method of `finding the best straight line fitting to the given data`, i.e. finding the best linear relationship between the independent and dependent variables.\n",
    "- In technical terms, linear regression is a machine learning algorithm that finds the best linear-fit relationship on any given data, between independent and dependent variables. It is mostly done by the Sum of Squared Residuals Method."
   ]
  },
  {
   "cell_type": "markdown",
   "id": "a760920d",
   "metadata": {},
   "source": [
    "# Types of Linear Regression\n",
    "\n",
    "- `Simple Linear Regression`:\n",
    "    - If a single independent variable is used to predict the value of a numerical dependent variable, then such a \n",
    "       Linear Regression algorithm is called Simple Linear Regression.\n",
    "- `Multiple Linear regression`:\n",
    "    - If more than one independent variable is used to predict the value of a numerical dependent variable, then such a Linear Regression algorithm is called Multiple Linear Regression.\n"
   ]
  },
  {
   "cell_type": "markdown",
   "id": "c2f8048f",
   "metadata": {},
   "source": [
    "# Mathematical Intuition behind Liner Regression"
   ]
  },
  {
   "cell_type": "markdown",
   "id": "9173be48",
   "metadata": {
    "ExecuteTime": {
     "end_time": "2022-04-07T11:48:16.909393Z",
     "start_time": "2022-04-07T11:48:16.901951Z"
    }
   },
   "source": [
    "- As we know line equation is: $y = mX+c$\n",
    "    \n",
    "    where:\n",
    "    - $y$ = Dependent variable\n",
    "    - $m$ = Slope of a line\n",
    "    - $X$ = Independent vairable\n",
    "    - $c$ = Intercept \n",
    "- for liner regression: $y = \\omega_0+\\omega_1x_1+\\omega_2x_2+.....\\omega_nx_n$\n",
    "    - $\\omega_{1\\to n}$ = Slope of a line for 1 to n features\n",
    "    - $\\omega_0$ = Intercept \n"
   ]
  },
  {
   "cell_type": "markdown",
   "id": "22ac5cf2",
   "metadata": {},
   "source": [
    "# What are important libraries to load"
   ]
  },
  {
   "cell_type": "code",
   "execution_count": 307,
   "id": "42edaa2c",
   "metadata": {
    "ExecuteTime": {
     "end_time": "2022-04-12T12:18:26.058749Z",
     "start_time": "2022-04-12T12:18:26.055820Z"
    }
   },
   "outputs": [],
   "source": [
    "import numpy as np\n",
    "import pandas as pd\n",
    "import matplotlib.pyplot as plt\n",
    "import seaborn as sns\n",
    "\n",
    "# ML related libraries\n",
    "from sklearn.linear_model import LinearRegression\n",
    "from sklearn.preprocessing import PolynomialFeatures\n",
    "\n",
    "# for Linear Model evaluation\n",
    "from sklearn.metrics import r2_score"
   ]
  },
  {
   "cell_type": "markdown",
   "id": "ddb2b79d",
   "metadata": {},
   "source": [
    "# Example for `Multiple Linear Regression` after DataTransformation from PolynomialFeatures"
   ]
  },
  {
   "cell_type": "code",
   "execution_count": 308,
   "id": "a9795c10",
   "metadata": {
    "ExecuteTime": {
     "end_time": "2022-04-12T12:18:26.063595Z",
     "start_time": "2022-04-12T12:18:26.060871Z"
    }
   },
   "outputs": [],
   "source": [
    "X = np.random.randn(100,1)\n",
    "noise = np.random.randn(100,1)\n",
    "y = 3*X**2+2*X*noise-3 # 3*X**2+2*X-3"
   ]
  },
  {
   "cell_type": "code",
   "execution_count": 309,
   "id": "b9cca4c0",
   "metadata": {
    "ExecuteTime": {
     "end_time": "2022-04-12T12:18:26.068353Z",
     "start_time": "2022-04-12T12:18:26.066099Z"
    }
   },
   "outputs": [],
   "source": [
    "# y"
   ]
  },
  {
   "cell_type": "code",
   "execution_count": 310,
   "id": "f7712175",
   "metadata": {
    "ExecuteTime": {
     "end_time": "2022-04-12T12:18:26.186589Z",
     "start_time": "2022-04-12T12:18:26.070243Z"
    }
   },
   "outputs": [
    {
     "data": {
      "text/plain": [
       "<matplotlib.collections.PathCollection at 0x7f7ca126d370>"
      ]
     },
     "execution_count": 310,
     "metadata": {},
     "output_type": "execute_result"
    },
    {
     "data": {
      "image/png": "[encoded data removed]",
      "text/plain": [
       "<Figure size 432x288 with 1 Axes>"
      ]
     },
     "metadata": {
      "needs_background": "light"
     },
     "output_type": "display_data"
    }
   ],
   "source": [
    "plt.scatter(X,y)"
   ]
  },
  {
   "cell_type": "code",
   "execution_count": 311,
   "id": "808fdc8f",
   "metadata": {
    "ExecuteTime": {
     "end_time": "2022-04-12T12:18:26.193585Z",
     "start_time": "2022-04-12T12:18:26.189384Z"
    }
   },
   "outputs": [],
   "source": [
    "lr = LinearRegression()\n",
    "lr.fit(X,y)\n",
    "y_pred = lr.predict(X)"
   ]
  },
  {
   "cell_type": "markdown",
   "id": "0a01a1ec",
   "metadata": {},
   "source": [
    "## Underfitting Model"
   ]
  },
  {
   "cell_type": "code",
   "execution_count": 312,
   "id": "21211bc0",
   "metadata": {
    "ExecuteTime": {
     "end_time": "2022-04-12T12:18:26.330673Z",
     "start_time": "2022-04-12T12:18:26.195584Z"
    }
   },
   "outputs": [
    {
     "data": {
      "text/plain": [
       "<matplotlib.collections.PathCollection at 0x7f7c9cfaea90>"
      ]
     },
     "execution_count": 312,
     "metadata": {},
     "output_type": "execute_result"
    },
    {
     "data": {
      "image/png": "[encoded data removed]",
      "text/plain": [
       "<Figure size 432x288 with 1 Axes>"
      ]
     },
     "metadata": {
      "needs_background": "light"
     },
     "output_type": "display_data"
    }
   ],
   "source": [
    "plt.scatter(X,y) # Train\n",
    "plt.scatter(X,y_pred,color=\"r\") # Test"
   ]
  },
  {
   "cell_type": "markdown",
   "id": "719ff77b",
   "metadata": {},
   "source": [
    "## Score of linear regression\n",
    "- very poor in this case"
   ]
  },
  {
   "cell_type": "code",
   "execution_count": 313,
   "id": "c94d2ecd",
   "metadata": {
    "ExecuteTime": {
     "end_time": "2022-04-12T12:18:26.338329Z",
     "start_time": "2022-04-12T12:18:26.332926Z"
    }
   },
   "outputs": [
    {
     "data": {
      "text/plain": [
       "0.20167408513731144"
      ]
     },
     "execution_count": 313,
     "metadata": {},
     "output_type": "execute_result"
    }
   ],
   "source": [
    "r2_score(y,y_pred)"
   ]
  },
  {
   "cell_type": "code",
   "execution_count": 314,
   "id": "d7e45485",
   "metadata": {
    "ExecuteTime": {
     "end_time": "2022-04-12T12:18:26.343140Z",
     "start_time": "2022-04-12T12:18:26.340558Z"
    }
   },
   "outputs": [],
   "source": [
    "poly = PolynomialFeatures()"
   ]
  },
  {
   "cell_type": "code",
   "execution_count": 315,
   "id": "05d71726",
   "metadata": {
    "ExecuteTime": {
     "end_time": "2022-04-12T12:18:26.348161Z",
     "start_time": "2022-04-12T12:18:26.345040Z"
    }
   },
   "outputs": [],
   "source": [
    "X_trans = poly.fit_transform(X)"
   ]
  },
  {
   "cell_type": "code",
   "execution_count": 316,
   "id": "b257613e",
   "metadata": {
    "ExecuteTime": {
     "end_time": "2022-04-12T12:18:26.362286Z",
     "start_time": "2022-04-12T12:18:26.353337Z"
    }
   },
   "outputs": [
    {
     "data": {
      "text/plain": [
       "array([[ 1.00000000e+00, -1.24280535e+00,  1.54456513e+00],\n",
       "       [ 1.00000000e+00,  1.72991711e+00,  2.99261319e+00],\n",
       "       [ 1.00000000e+00, -9.11134817e-01,  8.30166654e-01],\n",
       "       [ 1.00000000e+00, -1.44137582e-01,  2.07756426e-02],\n",
       "       [ 1.00000000e+00,  8.75599427e-01,  7.66674357e-01],\n",
       "       [ 1.00000000e+00, -6.00385449e-01,  3.60462687e-01],\n",
       "       [ 1.00000000e+00, -2.72424978e-01,  7.42153687e-02],\n",
       "       [ 1.00000000e+00, -1.44958214e+00,  2.10128838e+00],\n",
       "       [ 1.00000000e+00, -4.93275398e-01,  2.43320619e-01],\n",
       "       [ 1.00000000e+00, -5.65657591e-01,  3.19968510e-01],\n",
       "       [ 1.00000000e+00, -1.18427985e+00,  1.40251877e+00],\n",
       "       [ 1.00000000e+00, -6.97183855e-02,  4.86065328e-03],\n",
       "       [ 1.00000000e+00, -1.39489491e+00,  1.94573182e+00],\n",
       "       [ 1.00000000e+00,  1.73546773e-01,  3.01184826e-02],\n",
       "       [ 1.00000000e+00, -5.74308495e-01,  3.29830248e-01],\n",
       "       [ 1.00000000e+00,  2.52184623e-01,  6.35970838e-02],\n",
       "       [ 1.00000000e+00, -1.43490849e-01,  2.05896238e-02],\n",
       "       [ 1.00000000e+00,  1.34513746e+00,  1.80939480e+00],\n",
       "       [ 1.00000000e+00, -1.05699885e+00,  1.11724656e+00],\n",
       "       [ 1.00000000e+00,  2.27739862e+00,  5.18654445e+00],\n",
       "       [ 1.00000000e+00,  5.47880409e-02,  3.00172943e-03],\n",
       "       [ 1.00000000e+00,  1.45314394e+00,  2.11162730e+00],\n",
       "       [ 1.00000000e+00,  1.56513092e+00,  2.44963480e+00],\n",
       "       [ 1.00000000e+00,  2.31229722e+00,  5.34671842e+00],\n",
       "       [ 1.00000000e+00, -1.50454847e+00,  2.26366609e+00],\n",
       "       [ 1.00000000e+00,  6.29839207e-01,  3.96697427e-01],\n",
       "       [ 1.00000000e+00, -1.26171030e-01,  1.59191287e-02],\n",
       "       [ 1.00000000e+00, -1.15906088e+00,  1.34342213e+00],\n",
       "       [ 1.00000000e+00,  1.69188947e+00,  2.86248999e+00],\n",
       "       [ 1.00000000e+00, -6.55011396e-01,  4.29039928e-01],\n",
       "       [ 1.00000000e+00,  1.20089086e+00,  1.44213886e+00],\n",
       "       [ 1.00000000e+00, -2.46804474e-01,  6.09124485e-02],\n",
       "       [ 1.00000000e+00,  5.60247492e-01,  3.13877252e-01],\n",
       "       [ 1.00000000e+00,  2.91930500e-01,  8.52234166e-02],\n",
       "       [ 1.00000000e+00, -6.07103429e-01,  3.68574573e-01],\n",
       "       [ 1.00000000e+00,  2.54388793e-01,  6.47136579e-02],\n",
       "       [ 1.00000000e+00, -5.53737583e-01,  3.06625310e-01],\n",
       "       [ 1.00000000e+00, -2.09908515e-01,  4.40615845e-02],\n",
       "       [ 1.00000000e+00,  1.24348840e+00,  1.54626339e+00],\n",
       "       [ 1.00000000e+00, -1.49653493e+00,  2.23961680e+00],\n",
       "       [ 1.00000000e+00, -1.48000013e+00,  2.19040038e+00],\n",
       "       [ 1.00000000e+00,  3.90968853e-01,  1.52856644e-01],\n",
       "       [ 1.00000000e+00, -5.34124091e-01,  2.85288545e-01],\n",
       "       [ 1.00000000e+00,  1.75768835e-01,  3.08946834e-02],\n",
       "       [ 1.00000000e+00,  3.16155770e-01,  9.99544712e-02],\n",
       "       [ 1.00000000e+00,  2.17870301e+00,  4.74674679e+00],\n",
       "       [ 1.00000000e+00, -1.60294304e+00,  2.56942639e+00],\n",
       "       [ 1.00000000e+00, -6.38553857e-01,  4.07751029e-01],\n",
       "       [ 1.00000000e+00, -3.98519217e-01,  1.58817567e-01],\n",
       "       [ 1.00000000e+00,  1.09738409e+00,  1.20425183e+00],\n",
       "       [ 1.00000000e+00,  1.21877626e+00,  1.48541556e+00],\n",
       "       [ 1.00000000e+00,  8.66812401e-01,  7.51363739e-01],\n",
       "       [ 1.00000000e+00, -9.73273964e-01,  9.47262210e-01],\n",
       "       [ 1.00000000e+00, -9.10450783e-01,  8.28920628e-01],\n",
       "       [ 1.00000000e+00, -2.34424528e-01,  5.49548592e-02],\n",
       "       [ 1.00000000e+00, -9.77403101e-01,  9.55316822e-01],\n",
       "       [ 1.00000000e+00, -6.80112995e-01,  4.62553686e-01],\n",
       "       [ 1.00000000e+00,  4.27570151e-01,  1.82816234e-01],\n",
       "       [ 1.00000000e+00, -1.04214784e+00,  1.08607212e+00],\n",
       "       [ 1.00000000e+00, -9.38873759e-02,  8.81483936e-03],\n",
       "       [ 1.00000000e+00,  3.00691013e-01,  9.04150852e-02],\n",
       "       [ 1.00000000e+00, -1.53992745e+00,  2.37137655e+00],\n",
       "       [ 1.00000000e+00,  4.56747698e-01,  2.08618460e-01],\n",
       "       [ 1.00000000e+00, -3.74814763e-01,  1.40486106e-01],\n",
       "       [ 1.00000000e+00, -3.91470167e-01,  1.53248892e-01],\n",
       "       [ 1.00000000e+00, -1.45203372e+00,  2.10840194e+00],\n",
       "       [ 1.00000000e+00,  1.28333261e-01,  1.64694259e-02],\n",
       "       [ 1.00000000e+00,  6.62617835e-01,  4.39062395e-01],\n",
       "       [ 1.00000000e+00,  4.45979313e-01,  1.98897547e-01],\n",
       "       [ 1.00000000e+00,  4.66505147e-01,  2.17627052e-01],\n",
       "       [ 1.00000000e+00,  4.22734550e-01,  1.78704500e-01],\n",
       "       [ 1.00000000e+00,  1.31279307e+00,  1.72342564e+00],\n",
       "       [ 1.00000000e+00,  2.22487966e-01,  4.95008948e-02],\n",
       "       [ 1.00000000e+00,  1.02175936e+00,  1.04399220e+00],\n",
       "       [ 1.00000000e+00, -9.57403859e-01,  9.16622149e-01],\n",
       "       [ 1.00000000e+00, -6.52123105e-01,  4.25264544e-01],\n",
       "       [ 1.00000000e+00,  5.83972624e-01,  3.41024026e-01],\n",
       "       [ 1.00000000e+00,  3.74361631e-01,  1.40146630e-01],\n",
       "       [ 1.00000000e+00,  4.97075963e-01,  2.47084513e-01],\n",
       "       [ 1.00000000e+00, -8.02044714e-01,  6.43275723e-01],\n",
       "       [ 1.00000000e+00, -1.12898732e+00,  1.27461237e+00],\n",
       "       [ 1.00000000e+00,  8.57567501e-01,  7.35422018e-01],\n",
       "       [ 1.00000000e+00,  1.16432481e+00,  1.35565227e+00],\n",
       "       [ 1.00000000e+00, -5.57098546e-01,  3.10358790e-01],\n",
       "       [ 1.00000000e+00,  6.00030591e-01,  3.60036710e-01],\n",
       "       [ 1.00000000e+00,  2.80612617e-01,  7.87434409e-02],\n",
       "       [ 1.00000000e+00,  1.06821631e+00,  1.14108609e+00],\n",
       "       [ 1.00000000e+00,  2.61097527e+00,  6.81719186e+00],\n",
       "       [ 1.00000000e+00, -5.90883939e-01,  3.49143830e-01],\n",
       "       [ 1.00000000e+00, -8.17225150e-03,  6.67856946e-05],\n",
       "       [ 1.00000000e+00,  2.99036145e+00,  8.94226161e+00],\n",
       "       [ 1.00000000e+00,  8.85309155e-02,  7.83772299e-03],\n",
       "       [ 1.00000000e+00, -9.79651928e-01,  9.59717900e-01],\n",
       "       [ 1.00000000e+00, -1.62635380e+00,  2.64502670e+00],\n",
       "       [ 1.00000000e+00, -5.96672410e-01,  3.56017965e-01],\n",
       "       [ 1.00000000e+00, -1.64084237e+00,  2.69236368e+00],\n",
       "       [ 1.00000000e+00,  8.50487832e-01,  7.23329552e-01],\n",
       "       [ 1.00000000e+00,  2.38074556e-01,  5.66794942e-02],\n",
       "       [ 1.00000000e+00, -2.77615789e-01,  7.70705260e-02],\n",
       "       [ 1.00000000e+00,  2.03020105e+00,  4.12171632e+00]])"
      ]
     },
     "execution_count": 316,
     "metadata": {},
     "output_type": "execute_result"
    }
   ],
   "source": [
    "X_trans"
   ]
  },
  {
   "cell_type": "code",
   "execution_count": 317,
   "id": "555e4b57",
   "metadata": {
    "ExecuteTime": {
     "end_time": "2022-04-12T12:18:26.370513Z",
     "start_time": "2022-04-12T12:18:26.364568Z"
    }
   },
   "outputs": [
    {
     "data": {
      "text/plain": [
       "LinearRegression()"
      ]
     },
     "execution_count": 317,
     "metadata": {},
     "output_type": "execute_result"
    }
   ],
   "source": [
    "l2 = LinearRegression()\n",
    "lr2.fit(X_trans,y)"
   ]
  },
  {
   "cell_type": "code",
   "execution_count": 318,
   "id": "765efe40",
   "metadata": {
    "ExecuteTime": {
     "end_time": "2022-04-12T12:18:26.377137Z",
     "start_time": "2022-04-12T12:18:26.373070Z"
    }
   },
   "outputs": [],
   "source": [
    "y_pred_trans = lr2.predict(X_trans)"
   ]
  },
  {
   "cell_type": "markdown",
   "id": "5529ea2a",
   "metadata": {},
   "source": [
    "## Bestfit Model"
   ]
  },
  {
   "cell_type": "code",
   "execution_count": 319,
   "id": "ccc265d6",
   "metadata": {
    "ExecuteTime": {
     "end_time": "2022-04-12T12:18:26.544213Z",
     "start_time": "2022-04-12T12:18:26.379912Z"
    }
   },
   "outputs": [
    {
     "data": {
      "text/plain": [
       "<matplotlib.collections.PathCollection at 0x7f7c8399a100>"
      ]
     },
     "execution_count": 319,
     "metadata": {},
     "output_type": "execute_result"
    },
    {
     "data": {
      "image/png": "[encoded data removed]",
      "text/plain": [
       "<Figure size 432x288 with 1 Axes>"
      ]
     },
     "metadata": {
      "needs_background": "light"
     },
     "output_type": "display_data"
    }
   ],
   "source": [
    "plt.scatter(X,y) # Train\n",
    "plt.scatter(X,y_pred_trans,color=\"r\") # Test"
   ]
  },
  {
   "cell_type": "markdown",
   "id": "e3748687",
   "metadata": {},
   "source": [
    "## Score of linear regression\n",
    "- very good after data transformation to polynomial data"
   ]
  },
  {
   "cell_type": "code",
   "execution_count": 320,
   "id": "bef5fc29",
   "metadata": {
    "ExecuteTime": {
     "end_time": "2022-04-12T12:18:26.551105Z",
     "start_time": "2022-04-12T12:18:26.546290Z"
    }
   },
   "outputs": [
    {
     "data": {
      "text/plain": [
       "89.87933503270217"
      ]
     },
     "execution_count": 320,
     "metadata": {},
     "output_type": "execute_result"
    }
   ],
   "source": [
    "r2_score(y,y_pred_trans)*100"
   ]
  },
  {
   "cell_type": "markdown",
   "id": "6285f374",
   "metadata": {},
   "source": [
    "## Lets use high degree to create best fit line"
   ]
  },
  {
   "cell_type": "code",
   "execution_count": 321,
   "id": "19d013d0",
   "metadata": {
    "ExecuteTime": {
     "end_time": "2022-04-12T12:18:26.682830Z",
     "start_time": "2022-04-12T12:18:26.553223Z"
    }
   },
   "outputs": [
    {
     "data": {
      "image/png": "[encoded data removed]",
      "text/plain": [
       "<Figure size 432x288 with 1 Axes>"
      ]
     },
     "metadata": {
      "needs_background": "light"
     },
     "output_type": "display_data"
    }
   ],
   "source": [
    "poly = PolynomialFeatures(degree=5)\n",
    "X_trans = poly.fit_transform(X)\n",
    "l2 = LinearRegression()\n",
    "lr2.fit(X_trans,y)\n",
    "y_pred_trans = lr2.predict(X_trans)\n",
    "plt.scatter(X,y) # Train\n",
    "plt.scatter(X,y_pred_trans,color=\"r\") # Test\n",
    "plt.show()"
   ]
  },
  {
   "cell_type": "code",
   "execution_count": 322,
   "id": "1762dd22",
   "metadata": {
    "ExecuteTime": {
     "end_time": "2022-04-12T12:18:26.812788Z",
     "start_time": "2022-04-12T12:18:26.685123Z"
    }
   },
   "outputs": [
    {
     "data": {
      "image/png": "[encoded data removed]",
      "text/plain": [
       "<Figure size 432x288 with 1 Axes>"
      ]
     },
     "metadata": {
      "needs_background": "light"
     },
     "output_type": "display_data"
    }
   ],
   "source": [
    "poly = PolynomialFeatures(degree=10)\n",
    "X_trans = poly.fit_transform(X)\n",
    "l2 = LinearRegression()\n",
    "lr2.fit(X_trans,y)\n",
    "y_pred_trans = lr2.predict(X_trans)\n",
    "plt.scatter(X,y) # Train\n",
    "plt.scatter(X,y_pred_trans,color=\"r\") # Test\n",
    "plt.show()"
   ]
  },
  {
   "cell_type": "markdown",
   "id": "5907a82e",
   "metadata": {},
   "source": [
    "## Overfitting Model"
   ]
  },
  {
   "cell_type": "code",
   "execution_count": 323,
   "id": "68a47754",
   "metadata": {
    "ExecuteTime": {
     "end_time": "2022-04-12T12:18:26.948890Z",
     "start_time": "2022-04-12T12:18:26.814644Z"
    }
   },
   "outputs": [
    {
     "data": {
      "image/png": "[encoded data removed]",
      "text/plain": [
       "<Figure size 432x288 with 1 Axes>"
      ]
     },
     "metadata": {
      "needs_background": "light"
     },
     "output_type": "display_data"
    }
   ],
   "source": [
    "poly = PolynomialFeatures(degree=20)\n",
    "X_trans = poly.fit_transform(X)\n",
    "l2 = LinearRegression()\n",
    "lr2.fit(X_trans,y)\n",
    "y_pred_trans = lr2.predict(X_trans)\n",
    "plt.scatter(X,y) # Train\n",
    "plt.scatter(X,y_pred_trans,color=\"r\") # Test\n",
    "plt.show()"
   ]
  },
  {
   "cell_type": "code",
   "execution_count": 324,
   "id": "9a2cc502",
   "metadata": {
    "ExecuteTime": {
     "end_time": "2022-04-12T12:18:27.090524Z",
     "start_time": "2022-04-12T12:18:26.950882Z"
    }
   },
   "outputs": [
    {
     "data": {
      "image/png": "[encoded data removed]",
      "text/plain": [
       "<Figure size 432x288 with 1 Axes>"
      ]
     },
     "metadata": {
      "needs_background": "light"
     },
     "output_type": "display_data"
    }
   ],
   "source": [
    "poly = PolynomialFeatures(degree=50)\n",
    "X_trans = poly.fit_transform(X)\n",
    "l2 = LinearRegression()\n",
    "lr2.fit(X_trans,y)\n",
    "y_pred_trans = lr2.predict(X_trans)\n",
    "plt.scatter(X,y) # Train\n",
    "plt.scatter(X,y_pred_trans,color=\"r\") # Test\n",
    "plt.show()"
   ]
  },
  {
   "cell_type": "markdown",
   "id": "c15902bf",
   "metadata": {},
   "source": [
    "# Interview Questions"
   ]
  },
  {
   "cell_type": "markdown",
   "id": "efb66d10",
   "metadata": {},
   "source": [
    "Best source:\n",
    "    - https://www.upgrad.com/blog/machine-learning-interview-questions-answers-ii/"
   ]
  },
  {
   "cell_type": "markdown",
   "id": "60b28e34",
   "metadata": {},
   "source": [
    "## Must know this:    "
   ]
  },
  {
   "cell_type": "markdown",
   "id": "6f98fdfb",
   "metadata": {},
   "source": [
    "### What is Residuals\n",
    "- The distance between the actual value and predicted values is called residual. If the observed points are far from the regression line, then the residual will be high, and so cost function will high. If the scatter points are close to the regression line, then the residual will be small and hence the cost function. "
   ]
  },
  {
   "cell_type": "markdown",
   "id": "cd893443",
   "metadata": {},
   "source": [
    "### What is cost function"
   ]
  },
  {
   "cell_type": "markdown",
   "id": "18d81503",
   "metadata": {},
   "source": [
    "$\\frac{1}{N}\\sum_{i=1}^{N}(y_i-y'_i)$\n",
    "- where: \n",
    "    - $y$ is True value\n",
    "    - $y'$ is predicted value , can also be written as $\\omega_0+\\omega_ix_i$"
   ]
  },
  {
   "cell_type": "markdown",
   "id": "4c08d621",
   "metadata": {},
   "source": [
    "### what is bias and variance "
   ]
  },
  {
   "cell_type": "markdown",
   "id": "5bb2355b",
   "metadata": {},
   "source": [
    "### what is Under fitting model"
   ]
  },
  {
   "cell_type": "markdown",
   "id": "9ecbae0f",
   "metadata": {},
   "source": [
    "### what is Over fitting model"
   ]
  },
  {
   "cell_type": "markdown",
   "id": "4a3d7965",
   "metadata": {},
   "source": [
    "### How to solve Under & Over fitting model"
   ]
  },
  {
   "cell_type": "markdown",
   "id": "337f8cea",
   "metadata": {},
   "source": [
    "### What is Ridge Regression"
   ]
  },
  {
   "cell_type": "markdown",
   "id": "86b69701",
   "metadata": {},
   "source": [
    "### What is Lasso Regression"
   ]
  }
 ],
 "metadata": {
  "kernelspec": {
   "display_name": "Python 3 (ipykernel)",
   "language": "python",
   "name": "python3"
  },
  "language_info": {
   "codemirror_mode": {
    "name": "ipython",
    "version": 3
   },
   "file_extension": ".py",
   "mimetype": "text/x-python",
   "name": "python",
   "nbconvert_exporter": "python",
   "pygments_lexer": "ipython3",
   "version": "3.9.7"
  },
  "toc": {
   "base_numbering": 1,
   "nav_menu": {},
   "number_sections": true,
   "sideBar": true,
   "skip_h1_title": false,
   "title_cell": "Table of Contents",
   "title_sidebar": "Contents",
   "toc_cell": false,
   "toc_position": {},
   "toc_section_display": true,
   "toc_window_display": true
  },
  "varInspector": {
   "cols": {
    "lenName": 16,
    "lenType": 16,
    "lenVar": 40
   },
   "kernels_config": {
    "python": {
     "delete_cmd_postfix": "",
     "delete_cmd_prefix": "del ",
     "library": "var_list.py",
     "varRefreshCmd": "print(var_dic_list())"
    },
    "r": {
     "delete_cmd_postfix": ") ",
     "delete_cmd_prefix": "rm(",
     "library": "var_list.r",
     "varRefreshCmd": "cat(var_dic_list()) "
    }
   },
   "types_to_exclude": [
    "module",
    "function",
    "builtin_function_or_method",
    "instance",
    "_Feature"
   ],
   "window_display": false
  }
 },
 "nbformat": 4,
 "nbformat_minor": 5
}
